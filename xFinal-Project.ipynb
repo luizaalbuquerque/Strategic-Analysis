{
 "cells": [
  {
   "cell_type": "code",
   "execution_count": 3,
   "id": "a816dbde",
   "metadata": {},
   "outputs": [
    {
     "name": "stdout",
     "output_type": "stream",
     "text": [
      "Logistic Regression Accuracy: 0.695\n",
      "Confusion Matrix for Logistic Regression:\n",
      " [[   0    0    0  975]\n",
      " [   0    0    0 1052]\n",
      " [   0    0    0 1023]\n",
      " [   0    0    0 6950]]\n",
      "Classification Report for Logistic Regression:\n",
      "                         precision    recall  f1-score   support\n",
      "\n",
      "Cardiovascular Disease       0.00      0.00      0.00       975\n",
      "              Diabetes       0.00      0.00      0.00      1052\n",
      "          Hypertension       0.00      0.00      0.00      1023\n",
      "                  None       0.69      1.00      0.82      6950\n",
      "\n",
      "              accuracy                           0.69     10000\n",
      "             macro avg       0.17      0.25      0.21     10000\n",
      "          weighted avg       0.48      0.69      0.57     10000\n",
      "\n",
      "Decision Tree Accuracy: 0.4846\n",
      "Confusion Matrix for Decision Tree:\n",
      " [[ 115  110   96  654]\n",
      " [ 125  110  122  695]\n",
      " [ 111  119  125  668]\n",
      " [ 863  806  785 4496]]\n",
      "Classification Report for Decision Tree:\n",
      "                         precision    recall  f1-score   support\n",
      "\n",
      "Cardiovascular Disease       0.09      0.12      0.11       975\n",
      "              Diabetes       0.10      0.10      0.10      1052\n",
      "          Hypertension       0.11      0.12      0.12      1023\n",
      "                  None       0.69      0.65      0.67      6950\n",
      "\n",
      "              accuracy                           0.48     10000\n",
      "             macro avg       0.25      0.25      0.25     10000\n",
      "          weighted avg       0.51      0.48      0.50     10000\n",
      "\n",
      "Random Forest Accuracy: 0.695\n",
      "Confusion Matrix for Random Forest:\n",
      " [[   0    0    0  975]\n",
      " [   0    0    0 1052]\n",
      " [   0    0    0 1023]\n",
      " [   0    0    0 6950]]\n",
      "Classification Report for Random Forest:\n",
      "                         precision    recall  f1-score   support\n",
      "\n",
      "Cardiovascular Disease       0.00      0.00      0.00       975\n",
      "              Diabetes       0.00      0.00      0.00      1052\n",
      "          Hypertension       0.00      0.00      0.00      1023\n",
      "                  None       0.69      1.00      0.82      6950\n",
      "\n",
      "              accuracy                           0.69     10000\n",
      "             macro avg       0.17      0.25      0.21     10000\n",
      "          weighted avg       0.48      0.69      0.57     10000\n",
      "\n"
     ]
    },
    {
     "data": {
      "image/png": "[encoded data removed]",
      "text/plain": [
       "<Figure size 720x360 with 1 Axes>"
      ]
     },
     "metadata": {
      "needs_background": "light"
     },
     "output_type": "display_data"
    },
    {
     "name": "stdout",
     "output_type": "stream",
     "text": [
      "Logistic Regression prediction for the first sample: ['None']\n",
      "Decision Tree prediction for the first sample: ['None']\n",
      "Random Forest prediction for the first sample: ['None']\n"
     ]
    }
   ],
   "source": [
    "import pandas as pd\n",
    "import numpy as np\n",
    "from sklearn.model_selection import train_test_split\n",
    "from sklearn.preprocessing import LabelEncoder, StandardScaler\n",
    "from sklearn.linear_model import LogisticRegression\n",
    "from sklearn.tree import DecisionTreeClassifier\n",
    "from sklearn.ensemble import RandomForestClassifier\n",
    "from sklearn.metrics import classification_report, confusion_matrix, accuracy_score\n",
    "import matplotlib.pyplot as plt\n",
    "\n",
    "# Loading the data\n",
    "df = pd.read_csv('Health_Data_50k_English.csv')\n",
    "\n",
    "# Removing columns not used in the model\n",
    "df.drop(['Full Name'], axis=1, inplace=True)\n",
    "\n",
    "# Data preparation\n",
    "# Encoding categorical variables\n",
    "label_encoders = {}\n",
    "categorical_columns = ['Gender', 'Alcohol Consumption', 'Physical Activity', 'Diet', 'Obesity']\n",
    "for column in categorical_columns:\n",
    "    le = LabelEncoder()\n",
    "    df[column] = le.fit_transform(df[column])\n",
    "    label_encoders[column] = le\n",
    "\n",
    "# Splitting the data into training and testing sets\n",
    "X = df.drop('Diagnosed Disease', axis=1)\n",
    "y = df['Diagnosed Disease']\n",
    "X_train, X_test, y_train, y_test = train_test_split(X, y, test_size=0.2, random_state=42)\n",
    "\n",
    "# Normalising the data\n",
    "scaler = StandardScaler()\n",
    "X_train = scaler.fit_transform(X_train)\n",
    "X_test = scaler.transform(X_test)\n",
    "\n",
    "# Initialize the models\n",
    "models = {\n",
    "    'Logistic Regression': LogisticRegression(),\n",
    "    'Decision Tree': DecisionTreeClassifier(),\n",
    "    'Random Forest': RandomForestClassifier()\n",
    "}\n",
    "\n",
    "# Train and evaluate the models\n",
    "results = {}\n",
    "for name, model in models.items():\n",
    "    model.fit(X_train, y_train)\n",
    "    predictions = model.predict(X_test)\n",
    "    accuracy = accuracy_score(y_test, predictions)\n",
    "    results[name] = accuracy\n",
    "    print(f'{name} Accuracy: {accuracy}')\n",
    "    print(f'Confusion Matrix for {name}:\\n', confusion_matrix(y_test, predictions))\n",
    "    print(f'Classification Report for {name}:\\n', classification_report(y_test, predictions, zero_division=0))\n",
    "\n",
    "# Plotting the accuracies\n",
    "plt.figure(figsize=(10, 5))\n",
    "plt.bar(results.keys(), results.values())\n",
    "plt.title('Comparison of Model Accuracies')\n",
    "plt.ylabel('Accuracy')\n",
    "plt.show()\n",
    "\n",
    "# Making a prediction sample\n",
    "sample = X_test[0].reshape(1, -1)  # Reshape for a single sample\n",
    "for name, model in models.items():\n",
    "    prediction = model.predict(sample)\n",
    "    print(f'{name} prediction for the first sample: {prediction}')\n"
   ]
  },
  {
   "cell_type": "code",
   "execution_count": 2,
   "id": "4be87cfe",
   "metadata": {},
   "outputs": [
    {
     "name": "stdout",
     "output_type": "stream",
     "text": [
      "Dataset has been modified and saved as 'Modified_Health_Data_50k_English.csv'.\n"
     ]
    }
   ],
   "source": [
    "import pandas as pd\n",
    "import numpy as np\n",
    "\n",
    "# Load the dataset\n",
    "data = pd.read_csv('Health_Data_50k_English.csv')\n",
    "\n",
    "# Modify the age by adding random noise within +/- 5 years\n",
    "np.random.seed(42)\n",
    "data['Age'] += np.random.randint(-5, 6, size=data.shape[0])\n",
    "\n",
    "# Modify Smoking Years by adding/subtracting within a range\n",
    "data['Smoking Years'] += np.random.randint(-3, 4, size=data.shape[0])\n",
    "data['Smoking Years'] = data['Smoking Years'].clip(lower=0)\n",
    "\n",
    "# Randomly assign new values to 'Physical Activity' and 'Diet'\n",
    "activities = data['Physical Activity'].unique()\n",
    "diets = data['Diet'].unique()\n",
    "data['Physical Activity'] = np.random.choice(activities, size=data.shape[0])\n",
    "data['Diet'] = np.random.choice(diets, size=data.shape[0])\n",
    "\n",
    "# Simulate disease diagnosis based on lifestyle factors\n",
    "conditions = ['None', 'Diabetes', 'Cardiovascular Disease', 'Hypertension', 'Lung Cancer']\n",
    "probabilities = [0.7, 0.1, 0.1, 0.1]  # Adjust probabilities as necessary\n",
    "data['Diagnosed Disease'] = np.random.choice(conditions, size=data.shape[0], p=probabilities)\n",
    "\n",
    "# Save the modified dataset\n",
    "data.to_csv('Modified_Health_Data_50k_English.csv', index=False)\n",
    "\n",
    "print(\"Dataset has been modified and saved as 'Modified_Health_Data_50k_English.csv'.\")\n"
   ]
  }
 ],
 "metadata": {
  "kernelspec": {
   "display_name": "Python 3 (ipykernel)",
   "language": "python",
   "name": "python3"
  },
  "language_info": {
   "codemirror_mode": {
    "name": "ipython",
    "version": 3
   },
   "file_extension": ".py",
   "mimetype": "text/x-python",
   "name": "python",
   "nbconvert_exporter": "python",
   "pygments_lexer": "ipython3",
   "version": "3.9.12"
  }
 },
 "nbformat": 4,
 "nbformat_minor": 5
}
