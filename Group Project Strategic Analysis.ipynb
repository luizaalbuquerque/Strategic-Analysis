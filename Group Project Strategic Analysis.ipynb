{
 "cells": [
  {
   "attachments": {
    "LogoCCT.png": {
     "image/png": "[encoded data removed]"
    }
   },
   "cell_type": "markdown",
   "id": "028e90c0",
   "metadata": {},
   "source": [
    "![LogoCCT.png](attachment:LogoCCT.png)"
   ]
  },
  {
   "cell_type": "markdown",
   "id": "bef3dd5d",
   "metadata": {},
   "source": [
    "<h1> Strategic Analysis </h1>\n",
    "<h4> Strategic Business Information Technology & Problem Solving for Industry (Capstone Project) </h4>\n",
    "<p> Lecturers: Ken Healy & Muhammad Iqbal </p>\n",
    "<p> Students: Luiza Cavalcanti Albuquerque Brayner (2020309) & Edgard Pacheco (2020332)  </p>\n",
    "\n",
    "<b>Solutions, Findings, and Demonstrations. </b>"
   ]
  },
  {
   "cell_type": "markdown",
   "id": "d8ea48a5",
   "metadata": {},
   "source": [
    "<h4> Introduction </h4>\n",
    "<p> In this part of the project, we will be providing a comprehensive solution for a personalized health track and disease risk prediction application. We will demonstrate our data collection, cleanning and visualization  of the fidings, AI models to be used, providing a clear overview of our innovative approach.</p> "
   ]
  },
  {
   "cell_type": "markdown",
   "id": "64579022",
   "metadata": {},
   "source": [
    "<h3> Data Gathering Process </h3>\n",
    "<b> User data, will be gathered by a dataset that is previosly done, with some information that would be needed from user input, all user data is fictional, and in the future could be altered to appropriately match the application goals, which offers options for manual input. There will also be an upfront form that will be required for user input of personal and health data, that is where the data will come from to do the first prediction. </b> "
   ]
  },
  {
   "cell_type": "code",
   "execution_count": 3,
   "id": "544b2723",
   "metadata": {},
   "outputs": [
    {
     "name": "stdout",
     "output_type": "stream",
     "text": [
      "Enter your name: luiza\n",
      "Enter your age: 23\n",
      "Enter your gender (M/F): f\n",
      "Enter your height (in cm): 167\n",
      "Enter your weight (in kg): 52\n",
      "Enter the meals you've eaten today: 3\n",
      "Enter the exercise activities you've done today: running\n",
      "Enter your water intake (in ml): 1500\n",
      "Enter your sleep duration (in hours): 6\n",
      "Do you want to add another entry? (yes/no): no\n"
     ]
    }
   ],
   "source": []
  },
  {
   "cell_type": "markdown",
   "id": "2731d593",
   "metadata": {},
   "source": [
    "<h3> Explanation of the code provided to gather user data </h3>\n",
    "<p> <b> 1. Collecting user data:</b> The code will prompt the user a serie of questions regarding user personal data and health data. Requesting all the information through the command prompt.</p>\n",
    "<p> <b> 2. Storing the data:</b> Data is stored in a dictionary format, which makes it easier to manipulate and manage it. </p>\n",
    "<p> <b> 3. Writting to CSV:</b> The code will also write the collected user data into a CSV file called \"user_data.csv\". The file is already created, and it writes on the following available roll. </p>\n",
    "<p> <b> 4. Confirmation:</b> After the data is added to the CSV file, then there will be a confirmation message, which will indicate that the data has been submited, this message will also be outputed on the comamnd prompt. </p>\n"
   ]
  },
  {
   "cell_type": "markdown",
   "id": "b98cd13f",
   "metadata": {},
   "source": [
    "<h3> Data Cleaning Process </h3>\n",
    "<p> Process of data cleaning was done in the above cell, together with the data gathering process, there was an implementation of certain checks such as for age and gender, as well as checks for missing values, to ensure an appropriate data collection, therefore making the data cleaning process faster and efficient. </p>"
   ]
  },
  {
   "cell_type": "markdown",
   "id": "240a93d1",
   "metadata": {},
   "source": [
    "<h4> Making use of Dashboards </h4>\n",
    "<p> For creating the dashboards in this project, we made use of some tools like Plotly. We designed an iteractive dashboard to display user input data, visualize trands in meals, exercise, and lifestyle habits, and present predictive analytics for disease risk assessment. The following dashboards provide users with a comprehensive overview of their health status, and a proactive management for the insights. </p>"
   ]
  },
  {
   "cell_type": "code",
   "execution_count": 4,
   "id": "9aa43737",
   "metadata": {},
   "outputs": [
    {
     "data": {
      "text/html": [
       "\n",
       "        <iframe\n",
       "            width=\"100%\"\n",
       "            height=\"650\"\n",
       "            src=\"http://127.0.0.1:8050/\"\n",
       "            frameborder=\"0\"\n",
       "            allowfullscreen\n",
       "            \n",
       "        ></iframe>\n",
       "        "
      ],
      "text/plain": [
       "<IPython.lib.display.IFrame at 0x7fe6303ba5e0>"
      ]
     },
     "metadata": {},
     "output_type": "display_data"
    }
   ],
   "source": [
    "import dash\n",
    "from dash import dcc, html\n",
    "import plotly.express as px\n",
    "\n",
    "# Initialize the Dash app\n",
    "app = dash.Dash(__name__)\n",
    "\n",
    "# Sample data for visualization\n",
    "meals_data = {\"Date\": [\"2022-01-01\", \"2022-01-02\", \"2022-01-03\"],\n",
    "              \"Calories\": [2000, 2200, 1800]}\n",
    "exercise_data = {\"Date\": [\"2022-01-01\", \"2022-01-02\", \"2022-01-03\"],\n",
    "                 \"Minutes\": [30, 45, 60]}\n",
    "\n",
    "# Define the layout of the dashboard\n",
    "app.layout = html.Div([\n",
    "    html.H1(\"Health Tracker Dashboard\"),\n",
    "    html.Div([\n",
    "        dcc.Graph(id=\"meals-graph\", figure=px.line(meals_data, x=\"Date\", y=\"Calories\", title=\"Calories Consumed\")),\n",
    "        dcc.Graph(id=\"exercise-graph\", figure=px.bar(exercise_data, x=\"Date\", y=\"Minutes\", title=\"Exercise Minutes\"))\n",
    "    ])\n",
    "])\n",
    "\n",
    "if __name__ == \"__main__\":\n",
    "    app.run_server(debug=True)\n"
   ]
  },
  {
   "cell_type": "markdown",
   "id": "73c681a1",
   "metadata": {},
   "source": [
    "<h4> Code explanation and visualization overview </h4>\n",
    "<p>  </p>"
   ]
  },
  {
   "cell_type": "markdown",
   "id": "bf7aaff0",
   "metadata": {},
   "source": [
    "<h4> Machine Learning - Classification Model </h4>\n",
    "<p> The chosen model is <b> Random Forest Classifier</b>, due to its accuracy, and ability to handle both numerical and categorical features in an efficient way. The model was decided taking into consideration that our project involves predicting the risk of developing certain diseases based on lifestyle habits and nutritional information. Therefore the project will be based on the predictive modelling. </p>"
   ]
  },
  {
   "cell_type": "markdown",
   "id": "be7ef976",
   "metadata": {},
   "source": [
    "<h4> Addition of a dataset, it will be used for the disease prediction along with user gathered data </h4>\n",
    "<p> The chosen extra dataset is    which will be merged to our current 'user_data.csv', for then predicting what will be required. </p>"
   ]
  },
  {
   "cell_type": "code",
   "execution_count": null,
   "id": "760bf58e",
   "metadata": {},
   "outputs": [],
   "source": []
  },
  {
   "cell_type": "code",
   "execution_count": null,
   "id": "0921fde8",
   "metadata": {},
   "outputs": [],
   "source": []
  },
  {
   "cell_type": "markdown",
   "id": "3c58c1ca",
   "metadata": {},
   "source": [
    "<h4> Explanation of the code above - classification model performance </h4>"
   ]
  },
  {
   "cell_type": "code",
   "execution_count": null,
   "id": "055e19d7",
   "metadata": {},
   "outputs": [],
   "source": []
  }
 ],
 "metadata": {
  "kernelspec": {
   "display_name": "Python 3 (ipykernel)",
   "language": "python",
   "name": "python3"
  },
  "language_info": {
   "codemirror_mode": {
    "name": "ipython",
    "version": 3
   },
   "file_extension": ".py",
   "mimetype": "text/x-python",
   "name": "python",
   "nbconvert_exporter": "python",
   "pygments_lexer": "ipython3",
   "version": "3.9.7"
  }
 },
 "nbformat": 4,
 "nbformat_minor": 5
}
