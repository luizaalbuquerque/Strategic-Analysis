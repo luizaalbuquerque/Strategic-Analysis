{
 "cells": [
  {
   "attachments": {
    "LogoCCT.png": {
     "image/png": "[encoded data removed]"
    }
   },
   "cell_type": "markdown",
   "id": "028e90c0",
   "metadata": {},
   "source": [
    "![LogoCCT.png](attachment:LogoCCT.png)"
   ]
  },
  {
   "cell_type": "markdown",
   "id": "bef3dd5d",
   "metadata": {},
   "source": [
    "<h1> Strategic Analysis </h1>\n",
    "<h4> Strategic Business Information Technology & Problem Solving for Industry (Capstone Project) </h4>\n",
    "<p> Lecturers: Ken Healy & Muhammad Iqbal </p>\n",
    "<p> Students: Luiza Cavalcanti Albuquerque Brayner (2020309) & Edgard Pacheco (2020332)  </p>\n",
    "\n",
    "<b>Solutions, Findings, and Demonstrations </b>"
   ]
  },
  {
   "cell_type": "markdown",
   "id": "64579022",
   "metadata": {},
   "source": [
    "<h3> Data Collection Process </h3>\n",
    "<b> User data, will be inputted through the application interface, which offers options for manual input. There will also be an upfront form that will be required for user input of personal and health data, that is where the data will come from to do the first prediction. </b> "
   ]
  },
  {
   "cell_type": "code",
   "execution_count": 4,
   "id": "eff73a1d",
   "metadata": {},
   "outputs": [
    {
     "ename": "SyntaxError",
     "evalue": "invalid syntax (3616920779.py, line 2)",
     "output_type": "error",
     "traceback": [
      "\u001b[0;36m  File \u001b[0;32m\"/var/folders/bl/19n82dfx2jdcfq3h1tg_4jzh0000gn/T/ipykernel_59628/3616920779.py\"\u001b[0;36m, line \u001b[0;32m2\u001b[0m\n\u001b[0;31m    pip install dash dash-core-components dash-html-components\u001b[0m\n\u001b[0m        ^\u001b[0m\n\u001b[0;31mSyntaxError\u001b[0m\u001b[0;31m:\u001b[0m invalid syntax\n"
     ]
    }
   ],
   "source": [
    "# Dash installation \n",
    "pip install dash dash-core-components dash-html-components"
   ]
  },
  {
   "cell_type": "code",
   "execution_count": 3,
   "id": "cec08925",
   "metadata": {},
   "outputs": [
    {
     "data": {
      "text/html": [
       "\n",
       "        <iframe\n",
       "            width=\"100%\"\n",
       "            height=\"650\"\n",
       "            src=\"http://127.0.0.1:8050/\"\n",
       "            frameborder=\"0\"\n",
       "            allowfullscreen\n",
       "            \n",
       "        ></iframe>\n",
       "        "
      ],
      "text/plain": [
       "<IPython.lib.display.IFrame at 0x7f921802d370>"
      ]
     },
     "metadata": {},
     "output_type": "display_data"
    }
   ],
   "source": [
    "# importing libraries \n",
    "import dash\n",
    "from dash import html, dcc, Input, Output\n",
    "import csv\n",
    "\n",
    "# Initialize the Dash app\n",
    "app = dash.Dash(__name__)\n",
    "\n",
    "# creation of the layout of the dashboard\n",
    "app.layout = html.Div([\n",
    "    html.H1(\"Health Tracker App\"),\n",
    "    html.Div([\n",
    "        html.Label(\"Name:\"),\n",
    "        dcc.Input(id=\"name\", type=\"text\", value=\"\"),\n",
    "        html.Label(\"Surname:\"),\n",
    "        dcc.Input(id=\"surname\", type=\"text\", value=\"\"),\n",
    "        html.Label(\"Age:\"),\n",
    "        dcc.Input(id=\"age\", type=\"number\", value=\"\"),\n",
    "        html.Label(\"Gender:\"),\n",
    "        dcc.Dropdown(\n",
    "            id=\"gender\",\n",
    "            options=[\n",
    "                {'label': 'Male', 'value': 'M'},\n",
    "                {'label': 'Female', 'value': 'F'},\n",
    "                {'label': 'Not Applicable', 'value': 'N/A'}\n",
    "            ],\n",
    "            value=''\n",
    "        ),\n",
    "        html.Label(\"Height (cm):\"),\n",
    "        dcc.Input(id=\"height\", type=\"number\", value=\"\"),\n",
    "        html.Label(\"Weight (kg):\"),\n",
    "        dcc.Input(id=\"weight\", type=\"number\", value=\"\"),\n",
    "        html.Label(\"Meals:\"),\n",
    "        dcc.Input(id=\"meals\", type=\"text\", value=\"\"),\n",
    "        html.Label(\"Exercise:\"),\n",
    "        dcc.Input(id=\"exercise\", type=\"text\", value=\"\"),\n",
    "        html.Label(\"Water Intake (ml):\"),\n",
    "        dcc.Input(id=\"water\", type=\"number\", value=\"\"),\n",
    "        html.Label(\"Sleep Duration (hours):\"),\n",
    "        dcc.Input(id=\"sleep\", type=\"number\", value=\"\")\n",
    "    ]),\n",
    "    html.Button(\"Submit\", id=\"submit-button\"),\n",
    "    html.Div(id=\"output\")\n",
    "])\n",
    "\n",
    "# Define callback to handle user input and write to CSV file\n",
    "@app.callback(\n",
    "    Output(\"output\", \"children\"),\n",
    "    [\n",
    "        Input(\"submit-button\", \"n_clicks\"),\n",
    "        Input(\"name\", \"value\"),\n",
    "        Input(\"surname\", \"value\"),\n",
    "        Input(\"age\", \"value\"),\n",
    "        Input(\"gender\", \"value\"),\n",
    "        Input(\"height\", \"value\"),\n",
    "        Input(\"weight\", \"value\"),\n",
    "        Input(\"meals\", \"value\"),\n",
    "        Input(\"exercise\", \"value\"),\n",
    "        Input(\"water\", \"value\"),\n",
    "        Input(\"sleep\", \"value\")\n",
    "    ]\n",
    ")\n",
    "# adding all info into the csv file (dataset)\n",
    "def write_to_csv(n_clicks, name, surname, age, gender, height, weight, meals, exercise, water, sleep):\n",
    "    if n_clicks:\n",
    "        # Write\n",
    "        with open('user_data.csv', mode='a', newline='') as file:\n",
    "            writer = csv.writer(file)\n",
    "            writer.writerow([name, surname, age, gender, height, weight, meals, exercise, water, sleep])\n",
    "        # Reset the form by returning empty strings or default values\n",
    "        return \"Data submitted successfully!\", \"\", \"\", \"\", \"\", \"\", \"\", \"\", \"\", \"\", \"\"\n",
    "\n",
    "if __name__ == \"__main__\":\n",
    "    app.run_server(debug=True)\n"
   ]
  },
  {
   "cell_type": "markdown",
   "id": "2731d593",
   "metadata": {},
   "source": [
    "<h3> Explanation of the code provided to gather user data </h3>\n",
    "<ol>\n",
    "  <li>The code defines a 'HeathTracker' class to collect and display user data. </li>\n",
    "  <li>Upon initialization, it creates an empty dictionary to store user data. </li>\n",
    "  <li>The 'collect_user_data' method then prompts the user to input data through the console.</li>\n",
    "  <li>The inputted data is then stored in the 'user_data' disctionary under defined categories.</li>\n",
    "  <li>The 'display_user_data' method will then print the user inputted data in a structed format.</li>\n",
    "</ol>"
   ]
  },
  {
   "cell_type": "markdown",
   "id": "b98cd13f",
   "metadata": {},
   "source": [
    "<h3> Data Cleaning Process </h3>\n",
    "<b> Process of data cleaning </b>"
   ]
  },
  {
   "cell_type": "code",
   "execution_count": 8,
   "id": "6b5bbc99",
   "metadata": {},
   "outputs": [
    {
     "name": "stdout",
     "output_type": "stream",
     "text": [
      "Welcome to the Health Tracker App!\n",
      "Please fill out the following form to input your personal and health data:\n",
      "Enter your name: Ivan \n",
      "Enter your age: 22\n",
      "Enter your gender: Male\n",
      "Enter your height (in cm): 198\n",
      "Enter your weight (in kg): 75\n",
      "Enter the meals you've eaten today: 3\n",
      "Enter the exercise activities you've done today: Running\n",
      "Enter your water intake (in ml): 800\n",
      "Enter your sleep duration (in hours): 8\n",
      "\n",
      "Thank you for providing your data!\n",
      "\n",
      "Here is your inputted data:\n",
      "\n",
      "Personal Data:\n",
      "Name: Ivan \n",
      "Age: 22\n",
      "Gender: Male\n",
      "Height: 198\n",
      "Weight: 75\n",
      "\n",
      "Health Data:\n",
      "Meals: 3\n",
      "Exercise: Running\n",
      "Water Intake: 800\n",
      "Sleep Duration: 8\n"
     ]
    }
   ],
   "source": [
    "import csv\n",
    "\n",
    "class HealthTracker:\n",
    "    def __init__(self):\n",
    "        self.user_data = {}\n",
    "\n",
    "    def collect_user_data(self):\n",
    "        print(\"Welcome to the Health Tracker App!\")\n",
    "        print(\"Please fill out the following form to input your personal and health data:\")\n",
    "        \n",
    "        if not self.user_data:  # Check if user_data dictionary is empty\n",
    "            # Prompt the user with appropriate questions for data collection\n",
    "            name = input(\"Enter your name: \")\n",
    "            age = input(\"Enter your age: \")\n",
    "            gender = input(\"Enter your gender: \")\n",
    "            height = input(\"Enter your height (in cm): \")\n",
    "            weight = input(\"Enter your weight (in kg): \")\n",
    "            \n",
    "            self.user_data['Personal'] = {'Name': name, 'Age': age, 'Gender': gender, 'Height': height, 'Weight': weight}\n",
    "            \n",
    "            meals = input(\"Enter the meals you've eaten today: \")\n",
    "            exercise = input(\"Enter the exercise activities you've done today: \")\n",
    "            water_intake = input(\"Enter your water intake (in ml): \")\n",
    "            sleep_duration = input(\"Enter your sleep duration (in hours): \")\n",
    "            \n",
    "            self.user_data['Health'] = {'Meals': meals, 'Exercise': exercise, 'Water Intake': water_intake, 'Sleep Duration': sleep_duration}\n",
    "            \n",
    "            # Write user data to CSV file\n",
    "            with open('user_data.csv', mode='w', newline='') as file:\n",
    "                writer = csv.writer(file)\n",
    "                for category, data in self.user_data.items():\n",
    "                    for key, value in data.items():\n",
    "                        writer.writerow([category, key, value])\n",
    "            \n",
    "            print(\"\\nThank you for providing your data!\")\n",
    "        else:\n",
    "            print(\"User data has already been collected.\")\n",
    "\n",
    "    def display_user_data(self):\n",
    "        print(\"\\nHere is your inputted data:\")\n",
    "        for category, data in self.user_data.items():\n",
    "            print(f\"\\n{category} Data:\")\n",
    "            for key, value in data.items():\n",
    "                print(f\"{key}: {value}\")\n",
    "\n",
    "\n",
    "if __name__ == \"__main__\":\n",
    "    tracker = HealthTracker()\n",
    "    tracker.collect_user_data()\n",
    "    tracker.display_user_data()\n"
   ]
  }
 ],
 "metadata": {
  "kernelspec": {
   "display_name": "Python 3 (ipykernel)",
   "language": "python",
   "name": "python3"
  },
  "language_info": {
   "codemirror_mode": {
    "name": "ipython",
    "version": 3
   },
   "file_extension": ".py",
   "mimetype": "text/x-python",
   "name": "python",
   "nbconvert_exporter": "python",
   "pygments_lexer": "ipython3",
   "version": "3.9.7"
  }
 },
 "nbformat": 4,
 "nbformat_minor": 5
}
