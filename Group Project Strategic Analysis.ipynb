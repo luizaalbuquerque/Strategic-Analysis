{
 "cells": [
  {
   "attachments": {
    "LogoCCT.png": {
     "image/png": "[encoded data removed]"
    }
   },
   "cell_type": "markdown",
   "id": "028e90c0",
   "metadata": {},
   "source": [
    "![LogoCCT.png](attachment:LogoCCT.png)"
   ]
  },
  {
   "cell_type": "markdown",
   "id": "bef3dd5d",
   "metadata": {},
   "source": [
    "<h1> Strategic Analysis </h1>\n",
    "<h4> Strategic Business Information Technology & Problem Solving for Industry (Capstone Project) </h4>\n",
    "<p> Lecturers: Ken Healy & Muhammad Iqbal </p>\n",
    "<p> Students: Luiza Cavalcanti Albuquerque Brayner (2020309) & Edgard Pacheco (2020332)  </p>\n",
    "\n",
    "<b>Solutions, Findings, and Demonstrations </b>"
   ]
  },
  {
   "cell_type": "markdown",
   "id": "a4aa164d",
   "metadata": {},
   "source": [
    "<h4> Introduction </h4>\n",
    "<p> In this part of the project, we will be providing a comprehensive solution for a personalized health track and disease risk prediction application. We will demonstrate our data collection, cleanning and visualization  of the fidings, AI models to be used, providing a clear overview of our innovative approach.</p> "
   ]
  },
  {
   "cell_type": "markdown",
   "id": "64579022",
   "metadata": {},
   "source": [
    "<h3> Data Collection Process </h3>\n",
    "<b> User data, will be inputted through the application interface, which offers options for manual input. There will also be an upfront form that will be required for user input of personal and health data, that is where the data will come from to do the first prediction. </b> "
   ]
  },
  {
   "cell_type": "code",
   "execution_count": 3,
   "id": "51bc3c62",
   "metadata": {},
   "outputs": [
    {
     "name": "stdout",
     "output_type": "stream",
     "text": [
      "Enter your name: luiza\n",
      "Enter your age: 23\n",
      "Enter your gender (M/F): f\n",
      "Enter your height (in cm): 167\n",
      "Enter your weight (in kg): 52\n",
      "Enter the meals you've eaten today: 3\n",
      "Enter the exercise activities you've done today: running\n",
      "Enter your water intake (in ml): 1500\n",
      "Enter your sleep duration (in hours): 6\n",
      "Do you want to add another entry? (yes/no): no\n"
     ]
    }
   ],
   "source": [
    "# library to use the csv file\n",
    "import csv\n",
    "\n",
    "# part of data cleanning process\n",
    "# functions that will be doing the checks for certain fields such age and gender\n",
    "def validate_age(age):\n",
    "    try:\n",
    "        age = int(age)\n",
    "        if age < 0:\n",
    "            return False\n",
    "        return True\n",
    "    except ValueError:\n",
    "        return False\n",
    "\n",
    "def validate_gender(gender):\n",
    "    valid_genders = ['M', 'F', 'N/A']\n",
    "    return gender.upper() in valid_genders\n",
    "\n",
    "def clean_data(user_data):\n",
    "    cleaned_data = []\n",
    "    for row in user_data:\n",
    "        # validation of age\n",
    "        if not validate_age(row['Age']):\n",
    "            row['Age'] = 'N/A'\n",
    "        \n",
    "        # validation of gender\n",
    "        if not validate_gender(row['Gender']):\n",
    "            row['Gender'] = 'N/A'\n",
    "        \n",
    "        # code snippet to handle missing values\n",
    "        for key, value in row.items():\n",
    "            if value == '':\n",
    "                row[key] = 'N/A'\n",
    "    \n",
    "        cleaned_data.append(row)\n",
    "    \n",
    "    # return all input data \n",
    "    return cleaned_data\n",
    "\n",
    "def main():\n",
    "    # read user input and store it in a list of dictionaries\n",
    "    user_data = []\n",
    "    while True:\n",
    "        row = {}\n",
    "        row['Name'] = input(\"Enter your name: \")\n",
    "        row['Age'] = input(\"Enter your age: \")\n",
    "        row['Gender'] = input(\"Enter your gender (M/F): \")\n",
    "        row['Height'] = input(\"Enter your height (in cm): \")\n",
    "        row['Weight'] = input(\"Enter your weight (in kg): \")\n",
    "        row['Meals'] = input(\"Enter the meals you've eaten today: \")\n",
    "        row['Exercise'] = input(\"Enter the exercise activities you've done today: \")\n",
    "        row['Water Intake'] = input(\"Enter your water intake (in ml): \")\n",
    "        row['Sleep Duration'] = input(\"Enter your sleep duration (in hours): \")\n",
    "        user_data.append(row)\n",
    "\n",
    "        another_entry = input(\"Do you want to add another entry? (yes/no): \")\n",
    "        if another_entry.lower() != 'yes':\n",
    "            break\n",
    "\n",
    "    # clean the user data\n",
    "    cleaned_data = clean_data(user_data)\n",
    "\n",
    "    # append/add the cleaned data to CSV file\n",
    "    with open('user_data.csv', mode='a', newline='') as file:\n",
    "        writer = csv.DictWriter(file, fieldnames=cleaned_data[0].keys())\n",
    "        writer.writerows(cleaned_data)\n",
    "\n",
    "if __name__ == \"__main__\":\n",
    "    main()\n"
   ]
  },
  {
   "cell_type": "markdown",
   "id": "2731d593",
   "metadata": {},
   "source": [
    "<h3> Explanation of the code provided to gather user data </h3>\n",
    "<p> <b> 1. Collecting user data:</b> The code will prompt the user a serie of questions regarding user personal data and health data. Requesting all the information through the command prompt.</p>\n",
    "<p> <b> 2. Storing the data:</b> Data is stored in a dictionary format, which makes it easier to manipulate and manage it. </p>\n",
    "<p> <b> 3. Writting to CSV:</b> The code will also write the collected user data into a CSV file called \"user_data.csv\". The file is already created, and it writes on the following available roll. </p>\n",
    "<p> <b> 4. Confirmation:</b> After the data is added to the CSV file, then there will be a confirmation message, which will indicate that the data has been submited, this message will also be outputed on the comamnd prompt. </p>\n"
   ]
  },
  {
   "cell_type": "markdown",
   "id": "b98cd13f",
   "metadata": {},
   "source": [
    "<h3> Data Cleaning Process </h3>\n",
    "<p> Process of data cleaning was done in the above cell, together with the data gathering process, there was an implementation of certain checks such as for age and gender, as well as checks for missing values, to ensure an appropriate data collection, therefore making the data cleaning process faster. </p>"
   ]
  },
  {
   "cell_type": "markdown",
   "id": "6887d499",
   "metadata": {},
   "source": [
    "<h4> Machine Learning - Classification Model </h4>\n",
    "<p> The chosen model is Random Forest Classifier, due to its accuracy, and ability to handle both numerical and categorical features in an efficient way. The model was decided taking into consideration that our project involves predicting the risk of developing certain diseases based on lifestyle habits and nutritional information. Therefore the project will be based on the predictive modelling. </p>"
   ]
  },
  {
   "cell_type": "code",
   "execution_count": null,
   "id": "5e411151",
   "metadata": {},
   "outputs": [],
   "source": []
  },
  {
   "cell_type": "code",
   "execution_count": null,
   "id": "f7cc915e",
   "metadata": {},
   "outputs": [],
   "source": []
  }
 ],
 "metadata": {
  "kernelspec": {
   "display_name": "Python 3 (ipykernel)",
   "language": "python",
   "name": "python3"
  },
  "language_info": {
   "codemirror_mode": {
    "name": "ipython",
    "version": 3
   },
   "file_extension": ".py",
   "mimetype": "text/x-python",
   "name": "python",
   "nbconvert_exporter": "python",
   "pygments_lexer": "ipython3",
   "version": "3.9.7"
  }
 },
 "nbformat": 4,
 "nbformat_minor": 5
}
